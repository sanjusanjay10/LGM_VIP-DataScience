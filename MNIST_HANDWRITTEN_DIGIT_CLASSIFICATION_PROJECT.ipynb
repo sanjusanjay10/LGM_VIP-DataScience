{
  "nbformat": 4,
  "nbformat_minor": 0,
  "metadata": {
    "colab": {
      "name": "MNIST_HANDWRITTEN_DIGIT_CLASSIFICATION_PROJECT.ipynb",
      "provenance": [],
      "collapsed_sections": []
    },
    "kernelspec": {
      "name": "python3",
      "display_name": "Python 3"
    },
    "language_info": {
      "name": "python"
    }
  },
  "cells": [
    {
      "cell_type": "markdown",
      "metadata": {
        "id": "ppDcgUWSfm6J"
      },
      "source": [
        "NAME- MANGA SANJAYKANTH\n",
        "\n",
        "LETSGROWMORE INTERNSHIP ADVANCED LEVEL TASK- 3\n",
        "MNIST_HANDWRITTEN_DIGIT_CLASSIFICATION_PROJECT"
      ]
    },
    {
      "cell_type": "code",
      "metadata": {
        "id": "Qk6LixoWfsfk"
      },
      "source": [
        "import pandas as pd \n",
        "import numpy as np\n",
        "import matplotlib.pyplot as plt\n",
        "from tensorflow.keras import layers\n",
        "from numpy import unique, argmax\n",
        "import tensorflow as tf\n",
        "from tensorflow import keras\n",
        "import seaborn as sns\n",
        "from tensorflow.keras import datasets"
      ],
      "execution_count": 1,
      "outputs": []
    },
    {
      "cell_type": "code",
      "metadata": {
        "id": "GhocPLqwgV_U"
      },
      "source": [
        "##Loading the MNIST Dataset\n",
        "(X_train,y_train),(X_test,y_test) = keras.datasets.mnist.load_data()"
      ],
      "execution_count": 3,
      "outputs": []
    },
    {
      "cell_type": "code",
      "metadata": {
        "colab": {
          "base_uri": "https://localhost:8080/"
        },
        "id": "BMUdOZ4rgYk-",
        "outputId": "240e3fb2-ca52-4ee0-f336-a5f997710c26"
      },
      "source": [
        "print(\"X_train Shape: \", X_train.shape)\n",
        "print(\"Y_train Shape: \", y_train.shape)\n",
        "print(\"X_test Shape: \", X_test.shape)\n",
        "print(\"Y_test Shape: \", y_test.shape)"
      ],
      "execution_count": 4,
      "outputs": [
        {
          "output_type": "stream",
          "name": "stdout",
          "text": [
            "X_train Shape:  (60000, 28, 28)\n",
            "Y_train Shape:  (60000,)\n",
            "X_test Shape:  (10000, 28, 28)\n",
            "Y_test Shape:  (10000,)\n"
          ]
        }
      ]
    },
    {
      "cell_type": "code",
      "metadata": {
        "id": "yWVUzsnEgkl2"
      },
      "source": [
        "#Normalization\n",
        "X_train=X_train/255\n",
        "X_test=X_test/255"
      ],
      "execution_count": 5,
      "outputs": []
    },
    {
      "cell_type": "code",
      "metadata": {
        "id": "XDkuQOl3goQL"
      },
      "source": [
        "##Reshaping the training and test datasets\n",
        "X_train=X_train.reshape(60000,28,28,1)\n",
        "X_test=X_test.reshape(10000,28,28,1)"
      ],
      "execution_count": 6,
      "outputs": []
    },
    {
      "cell_type": "code",
      "metadata": {
        "colab": {
          "base_uri": "https://localhost:8080/"
        },
        "id": "Vv003Xdrgqb3",
        "outputId": "411c2b6e-826f-46d5-e0e2-4ace0a7be539"
      },
      "source": [
        "len(X_train)"
      ],
      "execution_count": 7,
      "outputs": [
        {
          "output_type": "execute_result",
          "data": {
            "text/plain": [
              "60000"
            ]
          },
          "metadata": {},
          "execution_count": 7
        }
      ]
    },
    {
      "cell_type": "code",
      "metadata": {
        "colab": {
          "base_uri": "https://localhost:8080/"
        },
        "id": "PFY5-wc5gsTx",
        "outputId": "bf8f336c-6a84-470e-e1b4-e3a9f54ecda8"
      },
      "source": [
        "len(X_test)"
      ],
      "execution_count": 8,
      "outputs": [
        {
          "output_type": "execute_result",
          "data": {
            "text/plain": [
              "10000"
            ]
          },
          "metadata": {},
          "execution_count": 8
        }
      ]
    },
    {
      "cell_type": "code",
      "metadata": {
        "id": "FHhd6-tMgwe_"
      },
      "source": [
        "## Training model using CNN\n",
        "model=keras.models.Sequential([\n",
        "    keras.layers.Conv2D(filters=32,kernel_size=3,activation='relu',input_shape=[28,28,1]),\n",
        "    keras.layers.MaxPooling2D(pool_size=2,strides=2),\n",
        "    keras.layers.Conv2D(filters=32,kernel_size=3,activation='relu'),\n",
        "    keras.layers.MaxPooling2D(pool_size=2,strides=2),\n",
        "    keras.layers.Flatten(),\n",
        "    keras.layers.Dense(128,activation='relu'),\n",
        "    keras.layers.Dense(10,activation='softmax')\n",
        "])"
      ],
      "execution_count": 9,
      "outputs": []
    },
    {
      "cell_type": "code",
      "metadata": {
        "colab": {
          "base_uri": "https://localhost:8080/"
        },
        "id": "gfFhR2GtgzQB",
        "outputId": "f7731e32-1fc6-4523-8ba7-431662099646"
      },
      "source": [
        "model.compile(optimizer='adam',loss='sparse_categorical_crossentropy',metrics=['accuracy'])\n",
        "model.fit(X_train,y_train,epochs=10,batch_size=512)"
      ],
      "execution_count": 10,
      "outputs": [
        {
          "output_type": "stream",
          "name": "stdout",
          "text": [
            "Epoch 1/10\n",
            "118/118 [==============================] - 33s 272ms/step - loss: 0.5129 - accuracy: 0.8606\n",
            "Epoch 2/10\n",
            "118/118 [==============================] - 32s 275ms/step - loss: 0.1106 - accuracy: 0.9669\n",
            "Epoch 3/10\n",
            "118/118 [==============================] - 32s 274ms/step - loss: 0.0742 - accuracy: 0.9776\n",
            "Epoch 4/10\n",
            "118/118 [==============================] - 32s 269ms/step - loss: 0.0586 - accuracy: 0.9819\n",
            "Epoch 5/10\n",
            "118/118 [==============================] - 32s 268ms/step - loss: 0.0504 - accuracy: 0.9849\n",
            "Epoch 6/10\n",
            "118/118 [==============================] - 32s 272ms/step - loss: 0.0425 - accuracy: 0.9872\n",
            "Epoch 7/10\n",
            "118/118 [==============================] - 32s 271ms/step - loss: 0.0373 - accuracy: 0.9886\n",
            "Epoch 8/10\n",
            "118/118 [==============================] - 31s 265ms/step - loss: 0.0318 - accuracy: 0.9902\n",
            "Epoch 9/10\n",
            "118/118 [==============================] - 31s 265ms/step - loss: 0.0281 - accuracy: 0.9915\n",
            "Epoch 10/10\n",
            "118/118 [==============================] - 32s 267ms/step - loss: 0.0262 - accuracy: 0.9919\n"
          ]
        },
        {
          "output_type": "execute_result",
          "data": {
            "text/plain": [
              "<keras.callbacks.History at 0x7fb44ccbc910>"
            ]
          },
          "metadata": {},
          "execution_count": 10
        }
      ]
    },
    {
      "cell_type": "code",
      "metadata": {
        "colab": {
          "base_uri": "https://localhost:8080/"
        },
        "id": "r6UR-AwCg2BP",
        "outputId": "09140049-f4ce-47b8-8e60-cb23b6c219ad"
      },
      "source": [
        "#Model Comiled Successfully, Now Testing\n",
        "model.evaluate(X_test,y_test,verbose=5)"
      ],
      "execution_count": 11,
      "outputs": [
        {
          "output_type": "execute_result",
          "data": {
            "text/plain": [
              "[0.03140172362327576, 0.9897000193595886]"
            ]
          },
          "metadata": {},
          "execution_count": 11
        }
      ]
    },
    {
      "cell_type": "code",
      "metadata": {
        "colab": {
          "base_uri": "https://localhost:8080/"
        },
        "id": "ZST17IgsiTNq",
        "outputId": "af6d967f-2fd0-456e-e87b-aef0882eacc9"
      },
      "source": [
        "probability_model = tf.keras.Sequential([ model, tf.keras.layers.Softmax() ])\n",
        "probability_model(X_test[:5])\n",
        "\n"
      ],
      "execution_count": 12,
      "outputs": [
        {
          "output_type": "execute_result",
          "data": {
            "text/plain": [
              "<tf.Tensor: shape=(5, 10), dtype=float32, numpy=\n",
              "array([[0.0853368 , 0.0853368 , 0.08533708, 0.0853369 , 0.0853368 ,\n",
              "        0.0853368 , 0.0853368 , 0.23196828, 0.08533685, 0.08533684],\n",
              "       [0.08533678, 0.08533679, 0.2319688 , 0.08533677, 0.08533677,\n",
              "        0.08533677, 0.08533692, 0.08533677, 0.08533678, 0.08533677],\n",
              "       [0.08534556, 0.2318384 , 0.08534711, 0.08534501, 0.08538276,\n",
              "        0.08534548, 0.08534582, 0.08535556, 0.08534925, 0.08534504],\n",
              "       [0.23195033, 0.08533794, 0.08533801, 0.08533794, 0.08533794,\n",
              "        0.08533796, 0.08534604, 0.08533794, 0.08533794, 0.08533796],\n",
              "       [0.08533712, 0.08533712, 0.08533712, 0.08533712, 0.2319633 ,\n",
              "        0.08533712, 0.08533713, 0.08533718, 0.08533718, 0.08533961]],\n",
              "      dtype=float32)>"
            ]
          },
          "metadata": {},
          "execution_count": 12
        }
      ]
    },
    {
      "cell_type": "code",
      "metadata": {
        "id": "8ij2z9BLiZtn"
      },
      "source": [
        "Y_pred=[]\n",
        "pred=model.predict(X_test)\n",
        "for element in pred:\n",
        "    Y_pred.append(np.argmax(element))"
      ],
      "execution_count": 13,
      "outputs": []
    },
    {
      "cell_type": "code",
      "metadata": {
        "colab": {
          "base_uri": "https://localhost:8080/"
        },
        "id": "BiefcFpYicq7",
        "outputId": "26fde17c-7713-4bf0-e990-d9f800512fea"
      },
      "source": [
        "Y_pred=np.array(Y_pred)\n",
        "Y_pred"
      ],
      "execution_count": 14,
      "outputs": [
        {
          "output_type": "execute_result",
          "data": {
            "text/plain": [
              "array([7, 2, 1, ..., 4, 5, 6])"
            ]
          },
          "metadata": {},
          "execution_count": 14
        }
      ]
    },
    {
      "cell_type": "code",
      "metadata": {
        "colab": {
          "base_uri": "https://localhost:8080/"
        },
        "id": "-2hB7-1aifJy",
        "outputId": "297b253a-f05e-4132-c879-ec0a13ef9067"
      },
      "source": [
        "from sklearn.metrics import confusion_matrix\n",
        "cm=confusion_matrix(y_test,Y_pred)\n",
        "cm"
      ],
      "execution_count": 15,
      "outputs": [
        {
          "output_type": "execute_result",
          "data": {
            "text/plain": [
              "array([[ 976,    0,    0,    0,    0,    0,    1,    2,    1,    0],\n",
              "       [   0, 1131,    1,    0,    0,    0,    1,    1,    0,    1],\n",
              "       [   2,    2, 1022,    0,    1,    0,    0,    4,    1,    0],\n",
              "       [   0,    0,    2,  997,    0,    7,    0,    1,    2,    1],\n",
              "       [   0,    0,    0,    0,  978,    0,    1,    0,    2,    1],\n",
              "       [   1,    0,    0,    2,    0,  886,    1,    1,    1,    0],\n",
              "       [   2,    1,    0,    0,    5,    5,  944,    0,    1,    0],\n",
              "       [   0,    1,    5,    1,    1,    0,    0, 1017,    1,    2],\n",
              "       [   5,    0,    2,    0,    1,    3,    0,    2,  959,    2],\n",
              "       [   3,    2,    0,    0,    8,    5,    0,    2,    2,  987]])"
            ]
          },
          "metadata": {},
          "execution_count": 15
        }
      ]
    },
    {
      "cell_type": "code",
      "metadata": {
        "id": "fzN2LryMiiY3"
      },
      "source": [
        "X_test=X_test.reshape(10000,28,28)"
      ],
      "execution_count": 16,
      "outputs": []
    },
    {
      "cell_type": "code",
      "metadata": {
        "colab": {
          "base_uri": "https://localhost:8080/",
          "height": 1000
        },
        "id": "YsBx7mXlik0n",
        "outputId": "c52eeee6-2706-43b2-b193-266f855be1ed"
      },
      "source": [
        "for i in range(0,10):\n",
        "    plt.figure(figsize=(30,30))\n",
        "    plt.subplot(1,10,i+1)\n",
        "    plt.imshow(X_test[i])\n",
        "    plt.xlabel(Y_pred[i])\n",
        "    plt.title(y_test[i])"
      ],
      "execution_count": 17,
      "outputs": [
        {
          "output_type": "display_data",
          "data": {
            "image/png": "[encoded data removed]",
            "text/plain": [
              "<Figure size 2160x2160 with 1 Axes>"
            ]
          },
          "metadata": {
            "needs_background": "light"
          }
        },
        {
          "output_type": "display_data",
          "data": {
            "image/png": "[encoded data removed]",
            "text/plain": [
              "<Figure size 2160x2160 with 1 Axes>"
            ]
          },
          "metadata": {
            "needs_background": "light"
          }
        },
        {
          "output_type": "display_data",
          "data": {
            "image/png": "[encoded data removed]",
            "text/plain": [
              "<Figure size 2160x2160 with 1 Axes>"
            ]
          },
          "metadata": {
            "needs_background": "light"
          }
        },
        {
          "output_type": "display_data",
          "data": {
            "image/png": "[encoded data removed]",
            "text/plain": [
              "<Figure size 2160x2160 with 1 Axes>"
            ]
          },
          "metadata": {
            "needs_background": "light"
          }
        },
        {
          "output_type": "display_data",
          "data": {
            "image/png": "[encoded data removed]",
            "text/plain": [
              "<Figure size 2160x2160 with 1 Axes>"
            ]
          },
          "metadata": {
            "needs_background": "light"
          }
        },
        {
          "output_type": "display_data",
          "data": {
            "image/png": "[encoded data removed]",
            "text/plain": [
              "<Figure size 2160x2160 with 1 Axes>"
            ]
          },
          "metadata": {
            "needs_background": "light"
          }
        },
        {
          "output_type": "display_data",
          "data": {
            "image/png": "[encoded data removed]",
            "text/plain": [
              "<Figure size 2160x2160 with 1 Axes>"
            ]
          },
          "metadata": {
            "needs_background": "light"
          }
        },
        {
          "output_type": "display_data",
          "data": {
            "image/png": "[encoded data removed]",
            "text/plain": [
              "<Figure size 2160x2160 with 1 Axes>"
            ]
          },
          "metadata": {
            "needs_background": "light"
          }
        },
        {
          "output_type": "display_data",
          "data": {
            "image/png": "[encoded data removed]",
            "text/plain": [
              "<Figure size 2160x2160 with 1 Axes>"
            ]
          },
          "metadata": {
            "needs_background": "light"
          }
        },
        {
          "output_type": "display_data",
          "data": {
            "image/png": "[encoded data removed]",
            "text/plain": [
              "<Figure size 2160x2160 with 1 Axes>"
            ]
          },
          "metadata": {
            "needs_background": "light"
          }
        }
      ]
    },
    {
      "cell_type": "code",
      "metadata": {
        "colab": {
          "base_uri": "https://localhost:8080/",
          "height": 665
        },
        "id": "Vz4ZEwVLinwV",
        "outputId": "3378b4d9-215f-468d-c623-e8b49139b25b"
      },
      "source": [
        "actual=y_test\n",
        "predicted=Y_pred\n",
        "final=pd.DataFrame({'Actual' :actual,'Predicted':predicted})\n",
        "final.head(20)"
      ],
      "execution_count": 18,
      "outputs": [
        {
          "output_type": "execute_result",
          "data": {
            "text/html": [
              "<div>\n",
              "<style scoped>\n",
              "    .dataframe tbody tr th:only-of-type {\n",
              "        vertical-align: middle;\n",
              "    }\n",
              "\n",
              "    .dataframe tbody tr th {\n",
              "        vertical-align: top;\n",
              "    }\n",
              "\n",
              "    .dataframe thead th {\n",
              "        text-align: right;\n",
              "    }\n",
              "</style>\n",
              "<table border=\"1\" class=\"dataframe\">\n",
              "  <thead>\n",
              "    <tr style=\"text-align: right;\">\n",
              "      <th></th>\n",
              "      <th>Actual</th>\n",
              "      <th>Predicted</th>\n",
              "    </tr>\n",
              "  </thead>\n",
              "  <tbody>\n",
              "    <tr>\n",
              "      <th>0</th>\n",
              "      <td>7</td>\n",
              "      <td>7</td>\n",
              "    </tr>\n",
              "    <tr>\n",
              "      <th>1</th>\n",
              "      <td>2</td>\n",
              "      <td>2</td>\n",
              "    </tr>\n",
              "    <tr>\n",
              "      <th>2</th>\n",
              "      <td>1</td>\n",
              "      <td>1</td>\n",
              "    </tr>\n",
              "    <tr>\n",
              "      <th>3</th>\n",
              "      <td>0</td>\n",
              "      <td>0</td>\n",
              "    </tr>\n",
              "    <tr>\n",
              "      <th>4</th>\n",
              "      <td>4</td>\n",
              "      <td>4</td>\n",
              "    </tr>\n",
              "    <tr>\n",
              "      <th>5</th>\n",
              "      <td>1</td>\n",
              "      <td>1</td>\n",
              "    </tr>\n",
              "    <tr>\n",
              "      <th>6</th>\n",
              "      <td>4</td>\n",
              "      <td>4</td>\n",
              "    </tr>\n",
              "    <tr>\n",
              "      <th>7</th>\n",
              "      <td>9</td>\n",
              "      <td>9</td>\n",
              "    </tr>\n",
              "    <tr>\n",
              "      <th>8</th>\n",
              "      <td>5</td>\n",
              "      <td>5</td>\n",
              "    </tr>\n",
              "    <tr>\n",
              "      <th>9</th>\n",
              "      <td>9</td>\n",
              "      <td>9</td>\n",
              "    </tr>\n",
              "    <tr>\n",
              "      <th>10</th>\n",
              "      <td>0</td>\n",
              "      <td>0</td>\n",
              "    </tr>\n",
              "    <tr>\n",
              "      <th>11</th>\n",
              "      <td>6</td>\n",
              "      <td>6</td>\n",
              "    </tr>\n",
              "    <tr>\n",
              "      <th>12</th>\n",
              "      <td>9</td>\n",
              "      <td>9</td>\n",
              "    </tr>\n",
              "    <tr>\n",
              "      <th>13</th>\n",
              "      <td>0</td>\n",
              "      <td>0</td>\n",
              "    </tr>\n",
              "    <tr>\n",
              "      <th>14</th>\n",
              "      <td>1</td>\n",
              "      <td>1</td>\n",
              "    </tr>\n",
              "    <tr>\n",
              "      <th>15</th>\n",
              "      <td>5</td>\n",
              "      <td>5</td>\n",
              "    </tr>\n",
              "    <tr>\n",
              "      <th>16</th>\n",
              "      <td>9</td>\n",
              "      <td>9</td>\n",
              "    </tr>\n",
              "    <tr>\n",
              "      <th>17</th>\n",
              "      <td>7</td>\n",
              "      <td>7</td>\n",
              "    </tr>\n",
              "    <tr>\n",
              "      <th>18</th>\n",
              "      <td>3</td>\n",
              "      <td>3</td>\n",
              "    </tr>\n",
              "    <tr>\n",
              "      <th>19</th>\n",
              "      <td>4</td>\n",
              "      <td>4</td>\n",
              "    </tr>\n",
              "  </tbody>\n",
              "</table>\n",
              "</div>"
            ],
            "text/plain": [
              "    Actual  Predicted\n",
              "0        7          7\n",
              "1        2          2\n",
              "2        1          1\n",
              "3        0          0\n",
              "4        4          4\n",
              "5        1          1\n",
              "6        4          4\n",
              "7        9          9\n",
              "8        5          5\n",
              "9        9          9\n",
              "10       0          0\n",
              "11       6          6\n",
              "12       9          9\n",
              "13       0          0\n",
              "14       1          1\n",
              "15       5          5\n",
              "16       9          9\n",
              "17       7          7\n",
              "18       3          3\n",
              "19       4          4"
            ]
          },
          "metadata": {},
          "execution_count": 18
        }
      ]
    },
    {
      "cell_type": "code",
      "metadata": {
        "colab": {
          "base_uri": "https://localhost:8080/",
          "height": 894
        },
        "id": "FsuBhNupiraj",
        "outputId": "f7af7d15-ff2f-4829-aa7c-346b4c8aadc2"
      },
      "source": [
        "plt.figure(figsize=(15,15))\n",
        "sns.heatmap(cm,cmap=\"YlGnBu\",annot=True,fmt='d')\n",
        "plt.xlabel('Predicted')\n",
        "plt.ylabel('Actual')"
      ],
      "execution_count": 19,
      "outputs": [
        {
          "output_type": "execute_result",
          "data": {
            "text/plain": [
              "Text(114.0, 0.5, 'Actual')"
            ]
          },
          "metadata": {},
          "execution_count": 19
        },
        {
          "output_type": "display_data",
          "data": {
            "image/png": "[encoded data removed]",
            "text/plain": [
              "<Figure size 1080x1080 with 2 Axes>"
            ]
          },
          "metadata": {
            "needs_background": "light"
          }
        }
      ]
    },
    {
      "cell_type": "code",
      "metadata": {
        "id": "ho9YMDbWiuBy"
      },
      "source": [
        ""
      ],
      "execution_count": null,
      "outputs": []
    }
  ]
}
